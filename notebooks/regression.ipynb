{
 "cells": [
  {
   "metadata": {},
   "cell_type": "markdown",
   "source": "<h1 style=\"color:#2192f1\"> PARIS HOUSING PRICES PREDICTION</h1>\n",
   "id": "254ade0c370a2496"
  },
  {
   "metadata": {},
   "cell_type": "markdown",
   "source": [
    "<h2> <span style=\"color:#12f095\">GOAL : </span> Predict sales prices four each house using : <br><br> <span style=\"color:#7b55e1; font-style:oblique\">Linear Regression<br>Decision Tree Regressor<br> Random Forest Regressor<br>XGBoost Regressor<br></span></h2>\n",
    "\n"
   ],
   "id": "4b1a31287a45b3c1"
  },
  {
   "metadata": {},
   "cell_type": "markdown",
   "source": "<h2 style=\"color:#f0e912\">IMPORTING LIBRARIES</h2>\n",
   "id": "797bdff39a9d54f0"
  },
  {
   "metadata": {
    "ExecuteTime": {
     "end_time": "2025-07-23T21:32:13.906298Z",
     "start_time": "2025-07-23T21:32:13.864560Z"
    }
   },
   "cell_type": "code",
   "source": [
    "import optuna\n",
    "import pandas as pd\n",
    "import numpy as np\n",
    "import matplotlib.pyplot as plt\n",
    "import seaborn as sns\n",
    "from sklearn.tree import DecisionTreeRegressor\n",
    "from sklearn.model_selection import train_test_split\n",
    "from sklearn.linear_model import LinearRegression\n",
    "from src import evaluation, residual_distribution, run_all_metrics\n",
    "from sklearn.model_selection import cross_val_score\n",
    "import warnings\n",
    "from sklearn.ensemble import RandomForestRegressor\n",
    "from src import run_all_metrics, register_param\n",
    "\n",
    "warnings.filterwarnings(\"ignore\", category=UserWarning)\n",
    "from tqdm import tqdm\n",
    "from sklearn.model_selection import ParameterGrid\n",
    "from sklearn.metrics import mean_squared_error\n",
    "from itertools import product\n",
    "from sklearn.inspection import PartialDependenceDisplay\n",
    "from sklearn import preprocessing\n",
    "\n",
    "print(\"import successful\")\n"
   ],
   "id": "6dec5090eb691e57",
   "outputs": [
    {
     "name": "stdout",
     "output_type": "stream",
     "text": [
      "import successful\n"
     ]
    }
   ],
   "execution_count": 154
  },
  {
   "metadata": {},
   "cell_type": "markdown",
   "source": "<h2 style=\"color:#f0e912\"><br>DATA EXPLORATION</h2>\n",
   "id": "d66feafc296769d5"
  },
  {
   "metadata": {},
   "cell_type": "code",
   "source": [
    "# Load data\n",
    "data = pd.read_csv(\"../data/ParisHousing.csv\")"
   ],
   "id": "6a0f54a60ea8f4c7",
   "outputs": [],
   "execution_count": null
  },
  {
   "metadata": {},
   "cell_type": "code",
   "source": [
    "# Quick overview\n",
    "data.head()"
   ],
   "id": "a556ebeceff5f64b",
   "outputs": [],
   "execution_count": null
  },
  {
   "metadata": {},
   "cell_type": "code",
   "source": [
    "# Give information about features ( Entries number, type, features number, etc.)\n",
    "data.info()"
   ],
   "id": "693de8fbf0f85876",
   "outputs": [],
   "execution_count": null
  },
  {
   "metadata": {},
   "cell_type": "code",
   "source": [
    "# Divide data\n",
    "X = data.drop('price', axis=1)\n",
    "y = data[\"price\"]\n",
    "X_train, X_test, y_train, y_test = train_test_split(X, y, test_size=0.2, random_state=42)"
   ],
   "id": "cbeafc0b5c44dc66",
   "outputs": [],
   "execution_count": null
  },
  {
   "metadata": {},
   "cell_type": "markdown",
   "source": "<h2 style=\"color:#f0e912\"><br>DATA VISUALIZATION</h2>\n",
   "id": "3edcd8fe73bfa6e4"
  },
  {
   "metadata": {},
   "cell_type": "code",
   "source": [
    "# Combine X_train and y_train for visualization\n",
    "df_plot = X_train.copy()\n",
    "df_plot['price'] = y_train"
   ],
   "id": "f287e65ceec4fbcf",
   "outputs": [],
   "execution_count": null
  },
  {
   "metadata": {},
   "cell_type": "code",
   "source": [
    "# matrix correlation\n",
    "matrix = df_plot.corr()\n",
    "plt.figure(figsize=(10, 10))\n",
    "sns.heatmap(matrix, annot=True, fmt='.1f', vmin=-1, vmax=1)"
   ],
   "id": "102db71ca39866bf",
   "outputs": [],
   "execution_count": null
  },
  {
   "metadata": {},
   "cell_type": "code",
   "source": [
    "spearman_corr = df_plot.corr(method='spearman')\n",
    "print(spearman_corr['price'])"
   ],
   "id": "8ceb74c439039d41",
   "outputs": [],
   "execution_count": null
  },
  {
   "metadata": {},
   "cell_type": "code",
   "source": [
    "sns.pairplot(\n",
    "    df_plot,\n",
    "    x_vars=['squareMeters', 'numberOfRooms', 'basement', 'attic', 'made'],\n",
    "    y_vars='price',\n",
    "    height=4,\n",
    "    aspect=1\n",
    ")"
   ],
   "id": "533c079dbcb56d3e",
   "outputs": [],
   "execution_count": null
  },
  {
   "metadata": {},
   "cell_type": "markdown",
   "source": "<h2 style=\"color:#f0e912\"><br>MODEL TRAINING</h2>\n",
   "id": "1d80a6c53bdc680c"
  },
  {
   "metadata": {},
   "cell_type": "markdown",
   "source": "<h3 style=\"color:#0c99d1\">LINEAR REGRESSION</h3>",
   "id": "3d400a4a97757818"
  },
  {
   "metadata": {
    "ExecuteTime": {
     "end_time": "2025-07-23T20:32:48.176498Z",
     "start_time": "2025-07-23T20:32:48.141067Z"
    }
   },
   "cell_type": "code",
   "source": [
    "# Model training and prediction\n",
    "linear_model = LinearRegression()\n",
    "linear_model.fit(X_train, y_train)\n",
    "y_pred = linear_model.predict(X_test)"
   ],
   "id": "36081274e99da532",
   "outputs": [],
   "execution_count": 134
  },
  {
   "metadata": {
    "ExecuteTime": {
     "end_time": "2025-07-23T20:32:49.830512Z",
     "start_time": "2025-07-23T20:32:49.790725Z"
    }
   },
   "cell_type": "code",
   "source": [
    "# Model evaluation\n",
    "run_all_metrics(y_pred, y_test, \"Linear regression\")"
   ],
   "id": "ab4f9f4243f5e71f",
   "outputs": [
    {
     "name": "stdout",
     "output_type": "stream",
     "text": [
      "====================================================\n",
      "📊  Regression model evaluation (Linear regression)\n",
      "====================================================\n",
      "🔹 MAE (Mean Absolute Error) : 1510.03\n",
      "🔹 MSE (Mean Squared Error)  : 3695708.44\n",
      "🔹 R2  (Coefficient of Determination)  : 1.00\n"
     ]
    }
   ],
   "execution_count": 135
  },
  {
   "metadata": {},
   "cell_type": "code",
   "source": "residual_distribution(y_test, y_pred)",
   "id": "661e1d7a0f906943",
   "outputs": [],
   "execution_count": null
  },
  {
   "metadata": {},
   "cell_type": "markdown",
   "source": "<h3 style=\"color:#0c99d1\">DECISION TREE REGRESSOR</h3>\n",
   "id": "5414ca75d8b6728d"
  },
  {
   "metadata": {},
   "cell_type": "markdown",
   "source": "<h4 style=\"color:#e8b215\">SIMPLE SETTING</h4>\n",
   "id": "497c02a8042d996a"
  },
  {
   "metadata": {},
   "cell_type": "code",
   "source": [
    "# Model definition\n",
    "decision_tree_model = DecisionTreeRegressor(random_state=42)"
   ],
   "id": "5ed3bb558375bd7b",
   "outputs": [],
   "execution_count": null
  },
  {
   "metadata": {},
   "cell_type": "code",
   "source": [
    "# Cross-validation to test the robustness of the model and its ability to generalize to new data\n",
    "cross_val_score(decision_tree_model, X_train, y_train, cv=10)"
   ],
   "id": "73a10963b521b336",
   "outputs": [],
   "execution_count": null
  },
  {
   "metadata": {},
   "cell_type": "code",
   "source": [
    "# Train regressor model\n",
    "decision_tree_model.fit(X_train, y_train)"
   ],
   "id": "9057501e84f79f49",
   "outputs": [],
   "execution_count": null
  },
  {
   "metadata": {},
   "cell_type": "code",
   "source": "y_pred_decision_tree = decision_tree_model.predict(X_test)",
   "id": "8962d6ffdcbaabb1",
   "outputs": [],
   "execution_count": null
  },
  {
   "metadata": {},
   "cell_type": "code",
   "source": "run_all_metrics(y_pred_decision_tree, y_test, \"Decision tree regression\")",
   "id": "8245ab56b3cd8c30",
   "outputs": [],
   "execution_count": null
  },
  {
   "metadata": {},
   "cell_type": "code",
   "source": "residual_distribution(y_test, y_pred_decision_tree)",
   "id": "6e5d9ad5daf3adfe",
   "outputs": [],
   "execution_count": null
  },
  {
   "metadata": {},
   "cell_type": "markdown",
   "source": "<h4 style=\"color:#e8b215\">GRID SEARCH</h4>\n",
   "id": "120948315ea6946"
  },
  {
   "metadata": {},
   "cell_type": "code",
   "source": [
    "# Dictionary of parameters to test\n",
    "param_grid = {\n",
    "    'splitter': ['best', 'random'],\n",
    "    'max_depth': [None, 5, 8, 10, 12, 17,  20],\n",
    "    'min_samples_split': [2, 5, 10, 15, 30, 45, 50, 70],\n",
    "    'min_samples_leaf': [1, 2, 5, 10, 15, 20],\n",
    "    'max_features': [None,  'sqrt', 'log2'],\n",
    "    'ccp_alpha': [0.0, 0.01, 0.1]\n",
    "}"
   ],
   "id": "34acc1e5bfbf9097",
   "outputs": [],
   "execution_count": null
  },
  {
   "metadata": {},
   "cell_type": "code",
   "source": [
    "best_score = float('inf')\n",
    "best_params = None\n",
    "\n",
    "grid = ParameterGrid(param_grid)\n",
    "\n",
    "for params in tqdm(grid, desc=\"Grid Search\"):\n",
    "    model = DecisionTreeRegressor(**params)\n",
    "    model.fit(X_train, y_train)\n",
    "    y_pred = model.predict(X_test)\n",
    "    score = mean_squared_error(y_test, y_pred)\n",
    "\n",
    "    if score < best_score:\n",
    "        best_score = score\n",
    "        best_params = params"
   ],
   "id": "ec749905719392e0",
   "outputs": [],
   "execution_count": null
  },
  {
   "metadata": {},
   "cell_type": "code",
   "source": [
    "print(\"\\nBest MSE:\", best_score)\n",
    "print(\"Best params:\", best_params)"
   ],
   "id": "168a5fc52ec3b6f",
   "outputs": [],
   "execution_count": null
  },
  {
   "metadata": {},
   "cell_type": "code",
   "source": [
    "dt_gridsearch_model = DecisionTreeRegressor(**best_params, random_state=42)\n",
    "dt_gridsearch_model.fit(X_train, y_train)\n",
    "y_pred_dt_gridsearch = dt_gridsearch_model.predict(X_test)"
   ],
   "id": "e7b38c1fa2422e34",
   "outputs": [],
   "execution_count": null
  },
  {
   "metadata": {},
   "cell_type": "code",
   "source": "run_all_metrics(y_pred_dt_gridsearch, y_test, \"Decision tree regression\")",
   "id": "30a564cdef58e0f4",
   "outputs": [],
   "execution_count": null
  },
  {
   "metadata": {},
   "cell_type": "code",
   "source": "residual_distribution(y_test, y_pred_dt_gridsearch)",
   "id": "cbcef6678818b828",
   "outputs": [],
   "execution_count": null
  },
  {
   "metadata": {},
   "cell_type": "markdown",
   "source": "<h3 style=\"color:#0c99d1\">RANDOM FOREST REGRESSOR</h3>\n",
   "id": "b48e1c5a94dc9cba"
  },
  {
   "metadata": {},
   "cell_type": "markdown",
   "source": "<h4 style=\"color:#e8b215\">BAYESIAN OPTIMISATION (OPTUNA)</h4>\n",
   "id": "60523799b45646ea"
  },
  {
   "metadata": {
    "ExecuteTime": {
     "end_time": "2025-07-23T20:58:50.318182Z",
     "start_time": "2025-07-23T20:58:50.279256Z"
    }
   },
   "cell_type": "code",
   "source": [
    "def objective(trial):\n",
    "    params = {\n",
    "        'n_estimators': trial.suggest_int('n_estimators', 50, 300),\n",
    "        'max_depth': trial.suggest_int('max_depth', 3, 30),\n",
    "        'min_samples_split': trial.suggest_int('min_samples_split', 2, 20),\n",
    "        'min_samples_leaf': trial.suggest_int('min_samples_leaf', 1, 20),\n",
    "        'max_features': trial.suggest_float('max_features', 0.1, 1.0),\n",
    "        'random_state': 42\n",
    "    }\n",
    "\n",
    "    model = RandomForestRegressor(**params)\n",
    "    # CV score négatif car on minimise MSE\n",
    "    score = cross_val_score(model, X_train, y_train, cv=5, scoring='neg_mean_squared_error', n_jobs=-1)\n",
    "    return -np.mean(score)"
   ],
   "id": "3abf8f8ee95b8927",
   "outputs": [],
   "execution_count": 147
  },
  {
   "metadata": {},
   "cell_type": "code",
   "source": [
    "# Lancer la recherche\n",
    "warnings.filterwarnings(\"ignore\", category=UserWarning, module=\"woodwork\")\n",
    "study = optuna.create_study(direction='minimize')\n",
    "study.optimize(objective, n_trials=50)"
   ],
   "id": "6783df6236166848",
   "outputs": [],
   "execution_count": null
  },
  {
   "metadata": {
    "ExecuteTime": {
     "end_time": "2025-07-23T21:15:08.936266Z",
     "start_time": "2025-07-23T21:14:58.510704Z"
    }
   },
   "cell_type": "code",
   "source": [
    "best_params = study.best_params\n",
    "final_model = RandomForestRegressor(**best_params, random_state=42)\n",
    "final_model.fit(X_train, y_train)\n",
    "\n",
    "y_pred_random_forest = final_model.predict(X_test)"
   ],
   "id": "9f36f4ebe1295d20",
   "outputs": [],
   "execution_count": 151
  },
  {
   "metadata": {
    "ExecuteTime": {
     "end_time": "2025-07-23T21:16:23.455685Z",
     "start_time": "2025-07-23T21:16:23.425907Z"
    }
   },
   "cell_type": "code",
   "source": "run_all_metrics(y_pred_random_forest, y_test, \"Decision tree regression\")",
   "id": "7526be61f41a2a64",
   "outputs": [
    {
     "name": "stdout",
     "output_type": "stream",
     "text": [
      "===========================================================\n",
      "📊  Regression model evaluation (Decision tree regression)\n",
      "===========================================================\n",
      "🔹 MAE (Mean Absolute Error) : 3382.26\n",
      "🔹 MSE (Mean Squared Error)  : 20477173.04\n",
      "🔹 R2  (Coefficient of Determination)  : 1.00\n"
     ]
    }
   ],
   "execution_count": 152
  },
  {
   "metadata": {
    "ExecuteTime": {
     "end_time": "2025-07-23T21:40:54.504351Z",
     "start_time": "2025-07-23T21:40:54.462752Z"
    }
   },
   "cell_type": "code",
   "source": "register_param(\"../outputs/models_parameters/models_params\", \"models_params\", study.best_value, study.best_params)",
   "id": "4b75172fb367bd34",
   "outputs": [
    {
     "name": "stdout",
     "output_type": "stream",
     "text": [
      "Adding new model models_params with score 19583581.85256026.\n",
      "Data saved to ../outputs/models_parameters/models_params\n"
     ]
    }
   ],
   "execution_count": 156
  },
  {
   "metadata": {},
   "cell_type": "markdown",
   "source": "<h3 style=\"color:#0c99d1\">XGBOOST</h3>\n",
   "id": "394f5e0bf4faf681"
  },
  {
   "metadata": {},
   "cell_type": "code",
   "outputs": [],
   "execution_count": null,
   "source": "",
   "id": "38acee249667f459"
  }
 ],
 "metadata": {
  "kernelspec": {
   "display_name": "Python 3",
   "language": "python",
   "name": "python3"
  },
  "language_info": {
   "codemirror_mode": {
    "name": "ipython",
    "version": 2
   },
   "file_extension": ".py",
   "mimetype": "text/x-python",
   "name": "python",
   "nbconvert_exporter": "python",
   "pygments_lexer": "ipython2",
   "version": "2.7.6"
  }
 },
 "nbformat": 4,
 "nbformat_minor": 5
}
