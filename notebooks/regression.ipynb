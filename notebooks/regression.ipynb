{
 "cells": [
  {
   "metadata": {},
   "cell_type": "markdown",
   "source": "<h1 style=\"color:#2192f1\"> PARIS HOUSING PRICES PREDICTION</h1>\n",
   "id": "254ade0c370a2496"
  },
  {
   "metadata": {},
   "cell_type": "markdown",
   "source": [
    "<h2> <span style=\"color:#12f095\">GOAL : </span> Predict sales prices four each house using : <br><br> <span style=\"color:#7b55e1; font-style:oblique\">Linear Regression<br>Decision Tree Regressor<br> Random Forest Regressor<br>XGBoost Regressor<br></span></h2>\n",
    "\n"
   ],
   "id": "4b1a31287a45b3c1"
  },
  {
   "metadata": {},
   "cell_type": "markdown",
   "source": "<h2 style=\"color:#f0e912\">IMPORTING LIBRARIES</h2>\n",
   "id": "797bdff39a9d54f0"
  },
  {
   "metadata": {
    "ExecuteTime": {
     "end_time": "2025-07-24T19:33:44.274774Z",
     "start_time": "2025-07-24T19:33:44.267348Z"
    }
   },
   "cell_type": "code",
   "source": [
    "import optuna\n",
    "import pandas as pd\n",
    "import numpy as np\n",
    "import matplotlib.pyplot as plt\n",
    "import seaborn as sns\n",
    "from sklearn.tree import DecisionTreeRegressor\n",
    "from sklearn.model_selection import train_test_split\n",
    "from sklearn.linear_model import LinearRegression\n",
    "from src import evaluation, residual_distribution, run_all_metrics\n",
    "from sklearn.model_selection import cross_val_score\n",
    "import warnings\n",
    "from sklearn.ensemble import RandomForestRegressor\n",
    "from src import run_all_metrics, register_param\n",
    "from tqdm.notebook import tqdm\n",
    "warnings.filterwarnings(\"ignore\", category=UserWarning)\n",
    "from tqdm import tqdm\n",
    "from sklearn.model_selection import ParameterGrid\n",
    "from sklearn.metrics import mean_squared_error\n",
    "import xgboost as xgb\n",
    "\n",
    "print(\"import successful\")\n",
    "\n"
   ],
   "id": "6dec5090eb691e57",
   "outputs": [
    {
     "name": "stdout",
     "output_type": "stream",
     "text": [
      "import successful\n"
     ]
    }
   ],
   "execution_count": 23
  },
  {
   "metadata": {},
   "cell_type": "markdown",
   "source": "<h2 style=\"color:#f0e912\"><br>DATA EXPLORATION</h2>\n",
   "id": "d66feafc296769d5"
  },
  {
   "metadata": {
    "ExecuteTime": {
     "end_time": "2025-07-24T19:12:40.477017Z",
     "start_time": "2025-07-24T19:12:40.446003Z"
    }
   },
   "cell_type": "code",
   "source": [
    "# Load data\n",
    "data = pd.read_csv(\"../data/ParisHousing.csv\")"
   ],
   "id": "6a0f54a60ea8f4c7",
   "outputs": [],
   "execution_count": 5
  },
  {
   "metadata": {
    "ExecuteTime": {
     "end_time": "2025-07-24T19:12:41.064181Z",
     "start_time": "2025-07-24T19:12:41.033661Z"
    }
   },
   "cell_type": "code",
   "source": [
    "# Quick overview\n",
    "data.head()"
   ],
   "id": "a556ebeceff5f64b",
   "outputs": [
    {
     "data": {
      "text/plain": [
       "   squareMeters  numberOfRooms  hasYard  hasPool  floors  cityCode  \\\n",
       "0         75523              3        0        1      63      9373   \n",
       "1         80771             39        1        1      98     39381   \n",
       "2         55712             58        0        1      19     34457   \n",
       "3         32316             47        0        0       6     27939   \n",
       "4         70429             19        1        1      90     38045   \n",
       "\n",
       "   cityPartRange  numPrevOwners  made  isNewBuilt  hasStormProtector  \\\n",
       "0              3              8  2005           0                  1   \n",
       "1              8              6  2015           1                  0   \n",
       "2              6              8  2021           0                  0   \n",
       "3             10              4  2012           0                  1   \n",
       "4              3              7  1990           1                  0   \n",
       "\n",
       "   basement  attic  garage  hasStorageRoom  hasGuestRoom      price  \n",
       "0      4313   9005     956               0             7  7559081.5  \n",
       "1      3653   2436     128               1             2  8085989.5  \n",
       "2      2937   8852     135               1             9  5574642.1  \n",
       "3       659   7141     359               0             3  3232561.2  \n",
       "4      8435   2429     292               1             4  7055052.0  "
      ],
      "text/html": [
       "<div>\n",
       "<style scoped>\n",
       "    .dataframe tbody tr th:only-of-type {\n",
       "        vertical-align: middle;\n",
       "    }\n",
       "\n",
       "    .dataframe tbody tr th {\n",
       "        vertical-align: top;\n",
       "    }\n",
       "\n",
       "    .dataframe thead th {\n",
       "        text-align: right;\n",
       "    }\n",
       "</style>\n",
       "<table border=\"1\" class=\"dataframe\">\n",
       "  <thead>\n",
       "    <tr style=\"text-align: right;\">\n",
       "      <th></th>\n",
       "      <th>squareMeters</th>\n",
       "      <th>numberOfRooms</th>\n",
       "      <th>hasYard</th>\n",
       "      <th>hasPool</th>\n",
       "      <th>floors</th>\n",
       "      <th>cityCode</th>\n",
       "      <th>cityPartRange</th>\n",
       "      <th>numPrevOwners</th>\n",
       "      <th>made</th>\n",
       "      <th>isNewBuilt</th>\n",
       "      <th>hasStormProtector</th>\n",
       "      <th>basement</th>\n",
       "      <th>attic</th>\n",
       "      <th>garage</th>\n",
       "      <th>hasStorageRoom</th>\n",
       "      <th>hasGuestRoom</th>\n",
       "      <th>price</th>\n",
       "    </tr>\n",
       "  </thead>\n",
       "  <tbody>\n",
       "    <tr>\n",
       "      <th>0</th>\n",
       "      <td>75523</td>\n",
       "      <td>3</td>\n",
       "      <td>0</td>\n",
       "      <td>1</td>\n",
       "      <td>63</td>\n",
       "      <td>9373</td>\n",
       "      <td>3</td>\n",
       "      <td>8</td>\n",
       "      <td>2005</td>\n",
       "      <td>0</td>\n",
       "      <td>1</td>\n",
       "      <td>4313</td>\n",
       "      <td>9005</td>\n",
       "      <td>956</td>\n",
       "      <td>0</td>\n",
       "      <td>7</td>\n",
       "      <td>7559081.5</td>\n",
       "    </tr>\n",
       "    <tr>\n",
       "      <th>1</th>\n",
       "      <td>80771</td>\n",
       "      <td>39</td>\n",
       "      <td>1</td>\n",
       "      <td>1</td>\n",
       "      <td>98</td>\n",
       "      <td>39381</td>\n",
       "      <td>8</td>\n",
       "      <td>6</td>\n",
       "      <td>2015</td>\n",
       "      <td>1</td>\n",
       "      <td>0</td>\n",
       "      <td>3653</td>\n",
       "      <td>2436</td>\n",
       "      <td>128</td>\n",
       "      <td>1</td>\n",
       "      <td>2</td>\n",
       "      <td>8085989.5</td>\n",
       "    </tr>\n",
       "    <tr>\n",
       "      <th>2</th>\n",
       "      <td>55712</td>\n",
       "      <td>58</td>\n",
       "      <td>0</td>\n",
       "      <td>1</td>\n",
       "      <td>19</td>\n",
       "      <td>34457</td>\n",
       "      <td>6</td>\n",
       "      <td>8</td>\n",
       "      <td>2021</td>\n",
       "      <td>0</td>\n",
       "      <td>0</td>\n",
       "      <td>2937</td>\n",
       "      <td>8852</td>\n",
       "      <td>135</td>\n",
       "      <td>1</td>\n",
       "      <td>9</td>\n",
       "      <td>5574642.1</td>\n",
       "    </tr>\n",
       "    <tr>\n",
       "      <th>3</th>\n",
       "      <td>32316</td>\n",
       "      <td>47</td>\n",
       "      <td>0</td>\n",
       "      <td>0</td>\n",
       "      <td>6</td>\n",
       "      <td>27939</td>\n",
       "      <td>10</td>\n",
       "      <td>4</td>\n",
       "      <td>2012</td>\n",
       "      <td>0</td>\n",
       "      <td>1</td>\n",
       "      <td>659</td>\n",
       "      <td>7141</td>\n",
       "      <td>359</td>\n",
       "      <td>0</td>\n",
       "      <td>3</td>\n",
       "      <td>3232561.2</td>\n",
       "    </tr>\n",
       "    <tr>\n",
       "      <th>4</th>\n",
       "      <td>70429</td>\n",
       "      <td>19</td>\n",
       "      <td>1</td>\n",
       "      <td>1</td>\n",
       "      <td>90</td>\n",
       "      <td>38045</td>\n",
       "      <td>3</td>\n",
       "      <td>7</td>\n",
       "      <td>1990</td>\n",
       "      <td>1</td>\n",
       "      <td>0</td>\n",
       "      <td>8435</td>\n",
       "      <td>2429</td>\n",
       "      <td>292</td>\n",
       "      <td>1</td>\n",
       "      <td>4</td>\n",
       "      <td>7055052.0</td>\n",
       "    </tr>\n",
       "  </tbody>\n",
       "</table>\n",
       "</div>"
      ]
     },
     "execution_count": 6,
     "metadata": {},
     "output_type": "execute_result"
    }
   ],
   "execution_count": 6
  },
  {
   "metadata": {
    "ExecuteTime": {
     "end_time": "2025-07-24T19:12:42.039086Z",
     "start_time": "2025-07-24T19:12:42.015158Z"
    }
   },
   "cell_type": "code",
   "source": [
    "# Give information about features ( Entries number, type, features number, etc.)\n",
    "data.info()"
   ],
   "id": "693de8fbf0f85876",
   "outputs": [
    {
     "name": "stdout",
     "output_type": "stream",
     "text": [
      "<class 'pandas.core.frame.DataFrame'>\n",
      "RangeIndex: 10000 entries, 0 to 9999\n",
      "Data columns (total 17 columns):\n",
      " #   Column             Non-Null Count  Dtype  \n",
      "---  ------             --------------  -----  \n",
      " 0   squareMeters       10000 non-null  int64  \n",
      " 1   numberOfRooms      10000 non-null  int64  \n",
      " 2   hasYard            10000 non-null  int64  \n",
      " 3   hasPool            10000 non-null  int64  \n",
      " 4   floors             10000 non-null  int64  \n",
      " 5   cityCode           10000 non-null  int64  \n",
      " 6   cityPartRange      10000 non-null  int64  \n",
      " 7   numPrevOwners      10000 non-null  int64  \n",
      " 8   made               10000 non-null  int64  \n",
      " 9   isNewBuilt         10000 non-null  int64  \n",
      " 10  hasStormProtector  10000 non-null  int64  \n",
      " 11  basement           10000 non-null  int64  \n",
      " 12  attic              10000 non-null  int64  \n",
      " 13  garage             10000 non-null  int64  \n",
      " 14  hasStorageRoom     10000 non-null  int64  \n",
      " 15  hasGuestRoom       10000 non-null  int64  \n",
      " 16  price              10000 non-null  float64\n",
      "dtypes: float64(1), int64(16)\n",
      "memory usage: 1.3 MB\n"
     ]
    }
   ],
   "execution_count": 7
  },
  {
   "metadata": {
    "ExecuteTime": {
     "end_time": "2025-07-24T19:12:42.601686Z",
     "start_time": "2025-07-24T19:12:42.588074Z"
    }
   },
   "cell_type": "code",
   "source": [
    "# Divide data\n",
    "X = data.drop('price', axis=1)\n",
    "y = data[\"price\"]\n",
    "X_train, X_test, y_train, y_test = train_test_split(X, y, test_size=0.2, random_state=42)"
   ],
   "id": "cbeafc0b5c44dc66",
   "outputs": [],
   "execution_count": 8
  },
  {
   "metadata": {},
   "cell_type": "markdown",
   "source": "<h2 style=\"color:#f0e912\"><br>DATA VISUALIZATION</h2>\n",
   "id": "3edcd8fe73bfa6e4"
  },
  {
   "metadata": {},
   "cell_type": "code",
   "source": [
    "# Combine X_train and y_train for visualization\n",
    "df_plot = X_train.copy()\n",
    "df_plot['price'] = y_train"
   ],
   "id": "f287e65ceec4fbcf",
   "outputs": [],
   "execution_count": null
  },
  {
   "metadata": {},
   "cell_type": "code",
   "source": [
    "# matrix correlation\n",
    "matrix = df_plot.corr()\n",
    "plt.figure(figsize=(10, 10))\n",
    "sns.heatmap(matrix, annot=True, fmt='.1f', vmin=-1, vmax=1)"
   ],
   "id": "102db71ca39866bf",
   "outputs": [],
   "execution_count": null
  },
  {
   "metadata": {},
   "cell_type": "code",
   "source": [
    "spearman_corr = df_plot.corr(method='spearman')\n",
    "print(spearman_corr['price'])"
   ],
   "id": "8ceb74c439039d41",
   "outputs": [],
   "execution_count": null
  },
  {
   "metadata": {},
   "cell_type": "code",
   "source": [
    "sns.pairplot(\n",
    "    df_plot,\n",
    "    x_vars=['squareMeters', 'numberOfRooms', 'basement', 'attic', 'made'],\n",
    "    y_vars='price',\n",
    "    height=4,\n",
    "    aspect=1\n",
    ")"
   ],
   "id": "533c079dbcb56d3e",
   "outputs": [],
   "execution_count": null
  },
  {
   "metadata": {},
   "cell_type": "markdown",
   "source": "<h2 style=\"color:#f0e912\"><br>MODEL TRAINING</h2>\n",
   "id": "1d80a6c53bdc680c"
  },
  {
   "metadata": {},
   "cell_type": "markdown",
   "source": "<h3 style=\"color:#0c99d1\">LINEAR REGRESSION</h3>",
   "id": "3d400a4a97757818"
  },
  {
   "metadata": {},
   "cell_type": "code",
   "source": [
    "# Model training and prediction\n",
    "linear_model = LinearRegression()\n",
    "linear_model.fit(X_train, y_train)\n",
    "y_pred = linear_model.predict(X_test)"
   ],
   "id": "36081274e99da532",
   "outputs": [],
   "execution_count": null
  },
  {
   "metadata": {},
   "cell_type": "code",
   "source": [
    "# Model evaluation\n",
    "run_all_metrics(y_pred, y_test, \"Linear regression\")"
   ],
   "id": "ab4f9f4243f5e71f",
   "outputs": [],
   "execution_count": null
  },
  {
   "metadata": {},
   "cell_type": "code",
   "source": "residual_distribution(y_test, y_pred)",
   "id": "661e1d7a0f906943",
   "outputs": [],
   "execution_count": null
  },
  {
   "metadata": {},
   "cell_type": "markdown",
   "source": "<h3 style=\"color:#0c99d1\">DECISION TREE REGRESSOR</h3>\n",
   "id": "5414ca75d8b6728d"
  },
  {
   "metadata": {},
   "cell_type": "markdown",
   "source": "<h4 style=\"color:#e8b215\">SIMPLE SETTING</h4>\n",
   "id": "497c02a8042d996a"
  },
  {
   "metadata": {},
   "cell_type": "code",
   "source": [
    "# Model definition\n",
    "decision_tree_model = DecisionTreeRegressor(random_state=42)"
   ],
   "id": "5ed3bb558375bd7b",
   "outputs": [],
   "execution_count": null
  },
  {
   "metadata": {},
   "cell_type": "code",
   "source": [
    "# Cross-validation to test the robustness of the model and its ability to generalize to new data\n",
    "cross_val_score(decision_tree_model, X_train, y_train, cv=10)"
   ],
   "id": "73a10963b521b336",
   "outputs": [],
   "execution_count": null
  },
  {
   "metadata": {},
   "cell_type": "code",
   "source": [
    "# Train regressor model\n",
    "decision_tree_model.fit(X_train, y_train)"
   ],
   "id": "9057501e84f79f49",
   "outputs": [],
   "execution_count": null
  },
  {
   "metadata": {},
   "cell_type": "code",
   "source": "y_pred_decision_tree = decision_tree_model.predict(X_test)",
   "id": "8962d6ffdcbaabb1",
   "outputs": [],
   "execution_count": null
  },
  {
   "metadata": {},
   "cell_type": "code",
   "source": "run_all_metrics(y_pred_decision_tree, y_test, \"Decision tree regression\")",
   "id": "8245ab56b3cd8c30",
   "outputs": [],
   "execution_count": null
  },
  {
   "metadata": {},
   "cell_type": "code",
   "source": "residual_distribution(y_test, y_pred_decision_tree)",
   "id": "6e5d9ad5daf3adfe",
   "outputs": [],
   "execution_count": null
  },
  {
   "metadata": {},
   "cell_type": "markdown",
   "source": "<h4 style=\"color:#e8b215\">GRID SEARCH</h4>\n",
   "id": "120948315ea6946"
  },
  {
   "metadata": {},
   "cell_type": "code",
   "source": [
    "# Dictionary of parameters to test\n",
    "param_grid = {\n",
    "    'splitter': ['best', 'random'],\n",
    "    'max_depth': [None, 5, 8, 10, 12, 17,  20],\n",
    "    'min_samples_split': [2, 5, 10, 15, 30, 45, 50, 70],\n",
    "    'min_samples_leaf': [1, 2, 5, 10, 15, 20],\n",
    "    'max_features': [None,  'sqrt', 'log2'],\n",
    "    'ccp_alpha': [0.0, 0.01, 0.1]\n",
    "}"
   ],
   "id": "34acc1e5bfbf9097",
   "outputs": [],
   "execution_count": null
  },
  {
   "metadata": {},
   "cell_type": "code",
   "source": [
    "best_score = float('inf')\n",
    "best_params = None\n",
    "\n",
    "grid = ParameterGrid(param_grid)\n",
    "\n",
    "for params in tqdm(grid, desc=\"Grid Search\"):\n",
    "    model = DecisionTreeRegressor(**params)\n",
    "    model.fit(X_train, y_train)\n",
    "    y_pred = model.predict(X_test)\n",
    "    score = mean_squared_error(y_test, y_pred)\n",
    "\n",
    "    if score < best_score:\n",
    "        best_score = score\n",
    "        best_params = params"
   ],
   "id": "ec749905719392e0",
   "outputs": [],
   "execution_count": null
  },
  {
   "metadata": {},
   "cell_type": "code",
   "source": [
    "print(\"\\nBest MSE:\", best_score)\n",
    "print(\"Best params:\", best_params)"
   ],
   "id": "168a5fc52ec3b6f",
   "outputs": [],
   "execution_count": null
  },
  {
   "metadata": {},
   "cell_type": "code",
   "source": [
    "dt_gridsearch_model = DecisionTreeRegressor(**best_params, random_state=42)\n",
    "dt_gridsearch_model.fit(X_train, y_train)\n",
    "y_pred_dt_gridsearch = dt_gridsearch_model.predict(X_test)"
   ],
   "id": "e7b38c1fa2422e34",
   "outputs": [],
   "execution_count": null
  },
  {
   "metadata": {},
   "cell_type": "code",
   "source": "run_all_metrics(y_pred_dt_gridsearch, y_test, \"Decision tree regression\")",
   "id": "30a564cdef58e0f4",
   "outputs": [],
   "execution_count": null
  },
  {
   "metadata": {},
   "cell_type": "code",
   "source": "residual_distribution(y_test, y_pred_dt_gridsearch)",
   "id": "cbcef6678818b828",
   "outputs": [],
   "execution_count": null
  },
  {
   "metadata": {},
   "cell_type": "markdown",
   "source": "<h3 style=\"color:#0c99d1\">RANDOM FOREST REGRESSOR</h3>\n",
   "id": "b48e1c5a94dc9cba"
  },
  {
   "metadata": {},
   "cell_type": "markdown",
   "source": "<h4 style=\"color:#e8b215\">BAYESIAN OPTIMISATION (OPTUNA)</h4>\n",
   "id": "60523799b45646ea"
  },
  {
   "metadata": {},
   "cell_type": "code",
   "source": [
    "def objective(trial):\n",
    "    params = {\n",
    "        'n_estimators': trial.suggest_int('n_estimators', 50, 300),\n",
    "        'max_depth': trial.suggest_int('max_depth', 3, 30),\n",
    "        'min_samples_split': trial.suggest_int('min_samples_split', 2, 20),\n",
    "        'min_samples_leaf': trial.suggest_int('min_samples_leaf', 1, 20),\n",
    "        'max_features': trial.suggest_float('max_features', 0.1, 1.0),\n",
    "        'random_state': 42\n",
    "    }\n",
    "\n",
    "    model = RandomForestRegressor(**params)\n",
    "    # CV negative score because we minimize MSE\n",
    "    score = cross_val_score(model, X_train, y_train, cv=5, scoring='neg_mean_squared_error', n_jobs=-1)\n",
    "    return -np.mean(score)"
   ],
   "id": "3abf8f8ee95b8927",
   "outputs": [],
   "execution_count": null
  },
  {
   "metadata": {},
   "cell_type": "code",
   "source": [
    "# Start searchwarnings.filterwarnings(\"ignore\", category=UserWarning, module=\"woodwork\")\n",
    "study = optuna.create_study(direction='minimize')\n",
    "study.optimize(objective, n_trials=50)"
   ],
   "id": "6783df6236166848",
   "outputs": [],
   "execution_count": null
  },
  {
   "metadata": {},
   "cell_type": "code",
   "source": [
    "best_params = study.best_params\n",
    "final_model = RandomForestRegressor(**best_params, random_state=42)\n",
    "final_model.fit(X_train, y_train)\n",
    "\n",
    "y_pred_random_forest = final_model.predict(X_test)"
   ],
   "id": "9f36f4ebe1295d20",
   "outputs": [],
   "execution_count": null
  },
  {
   "metadata": {},
   "cell_type": "code",
   "source": "run_all_metrics(y_pred_random_forest, y_test, \"Decision tree regression\")",
   "id": "7526be61f41a2a64",
   "outputs": [],
   "execution_count": null
  },
  {
   "metadata": {},
   "cell_type": "code",
   "source": "register_param(\"../outputs/models_parameters/models_params\", \"models_params\", study.best_value, study.best_params)",
   "id": "4b75172fb367bd34",
   "outputs": [],
   "execution_count": null
  },
  {
   "metadata": {},
   "cell_type": "markdown",
   "source": "<h3 style=\"color:#0c99d1\">XGBOOST</h3>\n",
   "id": "394f5e0bf4faf681"
  },
  {
   "metadata": {
    "ExecuteTime": {
     "end_time": "2025-07-24T19:37:41.059801Z",
     "start_time": "2025-07-24T19:37:41.045877Z"
    }
   },
   "cell_type": "code",
   "source": [
    "from sklearn.model_selection import KFold\n",
    "# Hide log\n",
    "import logging\n",
    "optuna.logging.set_verbosity(optuna.logging.WARNING)\n",
    "\n",
    "def objective(trial):\n",
    "    # Suggest hyperparameters for XGBoost\n",
    "    param = {\n",
    "        \"max_depth\": trial.suggest_int(\"max_depth\", 4, 10),\n",
    "        \"learning_rate\": trial.suggest_float(\"learning_rate\", 0.01, 0.04, log=True),\n",
    "        \"n_estimators\": trial.suggest_int(\"n_estimators\", 200, 1500),\n",
    "        \"min_child_weight\": trial.suggest_int(\"min_child_weight\", 8, 12),\n",
    "        \"colsample_bytree\": trial.suggest_float(\"colsample_bytree\", 0.3, 0.45),\n",
    "        \"subsample\": trial.suggest_float(\"subsample\", 0.5, 0.6),\n",
    "        \"reg_alpha\": trial.suggest_float(\"reg_alpha\", 2, 6, log=True),\n",
    "        \"reg_lambda\": trial.suggest_float(\"reg_lambda\", 60, 100, log=True)\n",
    "    }\n",
    "\n",
    "    # Create the model with suggested hyperparameters\n",
    "    model = xgb.XGBRegressor(**param, random_state=42)\n",
    "\n",
    "    # Cross-validation with 3 splits\n",
    "    kf = KFold(n_splits=3, shuffle=True, random_state=42)\n",
    "\n",
    "    # Compute negative mean squared error scores\n",
    "    mse_scores = cross_val_score(model, X_train, y_train, cv=kf, scoring=\"neg_mean_squared_error\")\n",
    "\n",
    "    # Return positive mean MSE (to be minimized)\n",
    "    return -mse_scores.mean()"
   ],
   "id": "38acee249667f459",
   "outputs": [],
   "execution_count": 29
  },
  {
   "metadata": {
    "ExecuteTime": {
     "end_time": "2025-07-24T19:51:28.354323Z",
     "start_time": "2025-07-24T19:37:43.649813Z"
    }
   },
   "cell_type": "code",
   "source": [
    "# Create the Optuna study to minimize the objective\n",
    "study = optuna.create_study(direction='minimize')\n",
    "study.optimize(objective, n_trials=100, show_progress_bar=True)"
   ],
   "id": "caf36e04489731e",
   "outputs": [
    {
     "name": "stderr",
     "output_type": "stream",
     "text": [
      "Best trial: 93. Best value: 1.87482e+09: 100%|██████████| 100/100 [13:44<00:00,  8.25s/it]\n"
     ]
    }
   ],
   "execution_count": 30
  },
  {
   "metadata": {},
   "cell_type": "code",
   "outputs": [],
   "execution_count": null,
   "source": [
    "print(\"Best hyperparameters:\", study.best_params)\n",
    "print(\"Best MSE:\", study.best_value)"
   ],
   "id": "882d0f7c33730e87"
  }
 ],
 "metadata": {
  "kernelspec": {
   "display_name": "Python 3",
   "language": "python",
   "name": "python3"
  },
  "language_info": {
   "codemirror_mode": {
    "name": "ipython",
    "version": 2
   },
   "file_extension": ".py",
   "mimetype": "text/x-python",
   "name": "python",
   "nbconvert_exporter": "python",
   "pygments_lexer": "ipython2",
   "version": "2.7.6"
  }
 },
 "nbformat": 4,
 "nbformat_minor": 5
}
